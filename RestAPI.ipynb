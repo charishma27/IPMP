{
  "nbformat": 4,
  "nbformat_minor": 0,
  "metadata": {
    "colab": {
      "name": "Untitled0.ipynb",
      "provenance": [],
      "collapsed_sections": [],
      "include_colab_link": true
    },
    "kernelspec": {
      "name": "python3",
      "display_name": "Python 3"
    },
    "language_info": {
      "name": "python"
    }
  },
  "cells": [
    {
      "cell_type": "markdown",
      "metadata": {
        "id": "view-in-github",
        "colab_type": "text"
      },
      "source": [
        "<a href=\"https://colab.research.google.com/github/charishma27/IPMP/blob/main/RestAPI.ipynb\" target=\"_parent\"><img src=\"https://colab.research.google.com/assets/colab-badge.svg\" alt=\"Open In Colab\"/></a>"
      ]
    },
    {
      "cell_type": "code",
      "execution_count": 35,
      "metadata": {
        "id": "0nBTT8pc-nYr"
      },
      "outputs": [],
      "source": [
        "import json\n",
        "import requests"
      ]
    },
    {
      "cell_type": "code",
      "source": [
        "response_API=requests.get('https://countriesnow.space/api/v0.1/countries/capital')"
      ],
      "metadata": {
        "id": "aDFDbTeI-wSH"
      },
      "execution_count": 36,
      "outputs": []
    },
    {
      "cell_type": "code",
      "source": [
        "response_API.json()"
      ],
      "metadata": {
        "id": "Bo7wvYL7Db79"
      },
      "execution_count": null,
      "outputs": []
    },
    {
      "cell_type": "code",
      "source": [
        "data=response_API.text\n",
        "parse_json=json.loads(data)"
      ],
      "metadata": {
        "id": "5pyGfX2r-znX"
      },
      "execution_count": 38,
      "outputs": []
    },
    {
      "cell_type": "code",
      "source": [
        "name1=input(\"Enter the name of country: \")\n",
        "name1=name1.capitalize()"
      ],
      "metadata": {
        "colab": {
          "base_uri": "https://localhost:8080/"
        },
        "id": "OOmw8PJo-2jW",
        "outputId": "70a93450-71b1-4f3d-a86a-7a5bb8268d7c"
      },
      "execution_count": 48,
      "outputs": [
        {
          "name": "stdout",
          "output_type": "stream",
          "text": [
            "Enter the name of country: turkey\n"
          ]
        }
      ]
    },
    {
      "cell_type": "code",
      "source": [
        "for i in parse_json['data']:\n",
        "  if name1 in i['name']:\n",
        "    x=i['capital']\n",
        "print(x)"
      ],
      "metadata": {
        "colab": {
          "base_uri": "https://localhost:8080/"
        },
        "id": "I1UlTR9HAYNK",
        "outputId": "24bf1920-47bc-4bf8-cb9e-40037b1d1e40"
      },
      "execution_count": 49,
      "outputs": [
        {
          "output_type": "stream",
          "name": "stdout",
          "text": [
            "Ankara\n"
          ]
        }
      ]
    }
  ]
}